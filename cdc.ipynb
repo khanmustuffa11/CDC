{
 "cells": [
  {
   "cell_type": "code",
   "execution_count": 1,
   "id": "20588b72",
   "metadata": {},
   "outputs": [
    {
     "name": "stdout",
     "output_type": "stream",
     "text": [
      "1.9.1\n",
      "True\n",
      "True\n"
     ]
    }
   ],
   "source": [
    "import torch\n",
    "torch.cuda.empty_cache()\n",
    "print(torch.__version__)\n",
    "print(torch.cuda.is_available())\n",
    "print(torch.backends.cudnn.enabled)"
   ]
  },
  {
   "cell_type": "code",
   "execution_count": 2,
   "id": "b78e9dee",
   "metadata": {},
   "outputs": [],
   "source": [
    "from fastai.imports import *\n",
    "from fastai.vision.all import *\n",
    "from sklearn.metrics import roc_curve, auc\n",
    "from fastai.vision.all import *\n",
    "%matplotlib inline\n",
    "from nbdev.showdoc import *\n"
   ]
  },
  {
   "cell_type": "code",
   "execution_count": 3,
   "id": "209d452a",
   "metadata": {},
   "outputs": [
    {
     "data": {
      "text/plain": [
       "(#3) [Path('models'),Path('train'),Path('val')]"
      ]
     },
     "execution_count": 3,
     "metadata": {},
     "output_type": "execute_result"
    }
   ],
   "source": [
    "path = Path('canon_data_org')\n",
    "Path.BASE_PATH = path # display all paths relative to dataset root\n",
    "path.ls()"
   ]
  },
  {
   "cell_type": "code",
   "execution_count": 4,
   "id": "fdf0b8af",
   "metadata": {},
   "outputs": [],
   "source": [
    "from fastai.vision.core import PILImage\n",
    "class HistogramEqualization_item(Transform):\n",
    "\n",
    "     def init(self, prefix=None):\n",
    "        self.prefix = prefix\n",
    "        def encodes(self, o):\n",
    "            if type(o) == PILImage:\n",
    "                ret = PIL.ImageOps.equalize(o)\n",
    "            else:\n",
    "                ret = o\n",
    "        return ret\n",
    "def decodes(self, o):\n",
    "    return o"
   ]
  },
  {
   "cell_type": "code",
   "execution_count": 6,
   "id": "e999ae62",
   "metadata": {},
   "outputs": [
    {
     "name": "stdout",
     "output_type": "stream",
     "text": [
      "Due to IPython and Windows limitation, python multiprocessing isn't available now.\n",
      "So `number_workers` is changed to 0 to avoid getting stuck\n"
     ]
    }
   ],
   "source": [
    "dls = ImageDataLoaders.from_folder(\n",
    "    path, bs=32,train = 'train',valid='val',\n",
    "    item_tfms=[Resize(512), HistogramEqualization_item()],\n",
    "    batch_tfms=[*aug_transforms(size=512, min_scale=0.75), Normalize.from_stats(*imagenet_stats)])"
   ]
  },
  {
   "cell_type": "code",
   "execution_count": null,
   "id": "6d6fac9e",
   "metadata": {},
   "outputs": [],
   "source": [
    "dls.show_batch(max_n = 4, figsize=(7,7))"
   ]
  },
  {
   "cell_type": "code",
   "execution_count": 7,
   "id": "7eedb765",
   "metadata": {},
   "outputs": [],
   "source": [
    "learn = cnn_learner(dls,resnet34, metrics=[accuracy]).to_fp16()"
   ]
  },
  {
   "cell_type": "code",
   "execution_count": 8,
   "id": "ae6dd377",
   "metadata": {},
   "outputs": [
    {
     "data": {
      "text/html": [
       "<table border=\"1\" class=\"dataframe\">\n",
       "  <thead>\n",
       "    <tr style=\"text-align: left;\">\n",
       "      <th>epoch</th>\n",
       "      <th>train_loss</th>\n",
       "      <th>valid_loss</th>\n",
       "      <th>accuracy</th>\n",
       "      <th>time</th>\n",
       "    </tr>\n",
       "  </thead>\n",
       "  <tbody>\n",
       "    <tr>\n",
       "      <td>0</td>\n",
       "      <td>1.153846</td>\n",
       "      <td>0.863958</td>\n",
       "      <td>0.767947</td>\n",
       "      <td>07:43</td>\n",
       "    </tr>\n",
       "    <tr>\n",
       "      <td>1</td>\n",
       "      <td>0.796296</td>\n",
       "      <td>0.721223</td>\n",
       "      <td>0.752922</td>\n",
       "      <td>07:22</td>\n",
       "    </tr>\n",
       "    <tr>\n",
       "      <td>2</td>\n",
       "      <td>0.790021</td>\n",
       "      <td>0.765477</td>\n",
       "      <td>0.764190</td>\n",
       "      <td>07:26</td>\n",
       "    </tr>\n",
       "    <tr>\n",
       "      <td>3</td>\n",
       "      <td>0.718267</td>\n",
       "      <td>0.632621</td>\n",
       "      <td>0.795492</td>\n",
       "      <td>07:28</td>\n",
       "    </tr>\n",
       "    <tr>\n",
       "      <td>4</td>\n",
       "      <td>0.636252</td>\n",
       "      <td>0.604266</td>\n",
       "      <td>0.798414</td>\n",
       "      <td>07:29</td>\n",
       "    </tr>\n",
       "    <tr>\n",
       "      <td>5</td>\n",
       "      <td>0.619195</td>\n",
       "      <td>0.588569</td>\n",
       "      <td>0.818030</td>\n",
       "      <td>07:37</td>\n",
       "    </tr>\n",
       "    <tr>\n",
       "      <td>6</td>\n",
       "      <td>0.553759</td>\n",
       "      <td>0.557467</td>\n",
       "      <td>0.811770</td>\n",
       "      <td>07:18</td>\n",
       "    </tr>\n",
       "    <tr>\n",
       "      <td>7</td>\n",
       "      <td>0.513324</td>\n",
       "      <td>0.497405</td>\n",
       "      <td>0.837646</td>\n",
       "      <td>07:37</td>\n",
       "    </tr>\n",
       "    <tr>\n",
       "      <td>8</td>\n",
       "      <td>0.499403</td>\n",
       "      <td>0.496785</td>\n",
       "      <td>0.837229</td>\n",
       "      <td>07:37</td>\n",
       "    </tr>\n",
       "    <tr>\n",
       "      <td>9</td>\n",
       "      <td>0.466845</td>\n",
       "      <td>0.491888</td>\n",
       "      <td>0.837229</td>\n",
       "      <td>07:32</td>\n",
       "    </tr>\n",
       "  </tbody>\n",
       "</table>"
      ],
      "text/plain": [
       "<IPython.core.display.HTML object>"
      ]
     },
     "metadata": {},
     "output_type": "display_data"
    }
   ],
   "source": [
    "learn.fit_one_cycle(10,5e-3)"
   ]
  },
  {
   "cell_type": "code",
   "execution_count": 9,
   "id": "95899faa",
   "metadata": {},
   "outputs": [
    {
     "data": {
      "text/plain": [
       "Path('models/canon_org_resnet50.pth')"
      ]
     },
     "execution_count": 9,
     "metadata": {},
     "output_type": "execute_result"
    }
   ],
   "source": [
    "learn.save('canon_org_resnet50')"
   ]
  },
  {
   "cell_type": "code",
   "execution_count": 19,
   "id": "93ef6ad2",
   "metadata": {},
   "outputs": [
    {
     "data": {
      "text/html": [
       "<table border=\"1\" class=\"dataframe\">\n",
       "  <thead>\n",
       "    <tr style=\"text-align: left;\">\n",
       "      <th>epoch</th>\n",
       "      <th>train_loss</th>\n",
       "      <th>valid_loss</th>\n",
       "      <th>accuracy</th>\n",
       "      <th>time</th>\n",
       "    </tr>\n",
       "  </thead>\n",
       "  <tbody>\n",
       "    <tr>\n",
       "      <td>0</td>\n",
       "      <td>1.632952</td>\n",
       "      <td>0.974880</td>\n",
       "      <td>0.704508</td>\n",
       "      <td>09:03</td>\n",
       "    </tr>\n",
       "    <tr>\n",
       "      <td>1</td>\n",
       "      <td>0.902929</td>\n",
       "      <td>0.759967</td>\n",
       "      <td>0.756260</td>\n",
       "      <td>08:59</td>\n",
       "    </tr>\n",
       "    <tr>\n",
       "      <td>2</td>\n",
       "      <td>0.766772</td>\n",
       "      <td>0.685930</td>\n",
       "      <td>0.785476</td>\n",
       "      <td>08:56</td>\n",
       "    </tr>\n",
       "    <tr>\n",
       "      <td>3</td>\n",
       "      <td>0.672505</td>\n",
       "      <td>0.710515</td>\n",
       "      <td>0.766694</td>\n",
       "      <td>09:00</td>\n",
       "    </tr>\n",
       "    <tr>\n",
       "      <td>4</td>\n",
       "      <td>0.653805</td>\n",
       "      <td>0.613450</td>\n",
       "      <td>0.791319</td>\n",
       "      <td>08:56</td>\n",
       "    </tr>\n",
       "    <tr>\n",
       "      <td>5</td>\n",
       "      <td>0.601794</td>\n",
       "      <td>0.576781</td>\n",
       "      <td>0.806761</td>\n",
       "      <td>08:58</td>\n",
       "    </tr>\n",
       "    <tr>\n",
       "      <td>6</td>\n",
       "      <td>0.574843</td>\n",
       "      <td>0.557148</td>\n",
       "      <td>0.809265</td>\n",
       "      <td>09:00</td>\n",
       "    </tr>\n",
       "    <tr>\n",
       "      <td>7</td>\n",
       "      <td>0.519324</td>\n",
       "      <td>0.566811</td>\n",
       "      <td>0.810518</td>\n",
       "      <td>08:58</td>\n",
       "    </tr>\n",
       "    <tr>\n",
       "      <td>8</td>\n",
       "      <td>0.507159</td>\n",
       "      <td>0.538545</td>\n",
       "      <td>0.817613</td>\n",
       "      <td>08:58</td>\n",
       "    </tr>\n",
       "    <tr>\n",
       "      <td>9</td>\n",
       "      <td>0.504874</td>\n",
       "      <td>0.537718</td>\n",
       "      <td>0.816778</td>\n",
       "      <td>09:00</td>\n",
       "    </tr>\n",
       "  </tbody>\n",
       "</table>"
      ],
      "text/plain": [
       "<IPython.core.display.HTML object>"
      ]
     },
     "metadata": {},
     "output_type": "display_data"
    }
   ],
   "source": [
    "learn.fit_one_cycle(10,5e-3)"
   ]
  },
  {
   "cell_type": "code",
   "execution_count": 20,
   "id": "44ab111f",
   "metadata": {},
   "outputs": [
    {
     "data": {
      "text/plain": [
       "Path('models/canon_org_resnet34_1024.pth')"
      ]
     },
     "execution_count": 20,
     "metadata": {},
     "output_type": "execute_result"
    }
   ],
   "source": [
    "learn.save('canon_org_resnet34_1024')"
   ]
  },
  {
   "cell_type": "code",
   "execution_count": 15,
   "id": "574e8fe9",
   "metadata": {},
   "outputs": [
    {
     "data": {
      "text/html": [
       "<table border=\"1\" class=\"dataframe\">\n",
       "  <thead>\n",
       "    <tr style=\"text-align: left;\">\n",
       "      <th>epoch</th>\n",
       "      <th>train_loss</th>\n",
       "      <th>valid_loss</th>\n",
       "      <th>accuracy</th>\n",
       "      <th>time</th>\n",
       "    </tr>\n",
       "  </thead>\n",
       "  <tbody>\n",
       "    <tr>\n",
       "      <td>0</td>\n",
       "      <td>1.619946</td>\n",
       "      <td>1.080080</td>\n",
       "      <td>0.656093</td>\n",
       "      <td>08:24</td>\n",
       "    </tr>\n",
       "    <tr>\n",
       "      <td>1</td>\n",
       "      <td>0.878204</td>\n",
       "      <td>0.717919</td>\n",
       "      <td>0.770033</td>\n",
       "      <td>06:31</td>\n",
       "    </tr>\n",
       "    <tr>\n",
       "      <td>2</td>\n",
       "      <td>0.774620</td>\n",
       "      <td>0.739031</td>\n",
       "      <td>0.738731</td>\n",
       "      <td>06:31</td>\n",
       "    </tr>\n",
       "    <tr>\n",
       "      <td>3</td>\n",
       "      <td>0.683566</td>\n",
       "      <td>0.698361</td>\n",
       "      <td>0.765025</td>\n",
       "      <td>06:38</td>\n",
       "    </tr>\n",
       "    <tr>\n",
       "      <td>4</td>\n",
       "      <td>0.654396</td>\n",
       "      <td>0.644919</td>\n",
       "      <td>0.796745</td>\n",
       "      <td>06:30</td>\n",
       "    </tr>\n",
       "    <tr>\n",
       "      <td>5</td>\n",
       "      <td>0.621137</td>\n",
       "      <td>0.585419</td>\n",
       "      <td>0.805927</td>\n",
       "      <td>06:43</td>\n",
       "    </tr>\n",
       "    <tr>\n",
       "      <td>6</td>\n",
       "      <td>0.587327</td>\n",
       "      <td>0.596621</td>\n",
       "      <td>0.799249</td>\n",
       "      <td>06:30</td>\n",
       "    </tr>\n",
       "    <tr>\n",
       "      <td>7</td>\n",
       "      <td>0.543686</td>\n",
       "      <td>0.583580</td>\n",
       "      <td>0.806344</td>\n",
       "      <td>06:28</td>\n",
       "    </tr>\n",
       "    <tr>\n",
       "      <td>8</td>\n",
       "      <td>0.512538</td>\n",
       "      <td>0.575874</td>\n",
       "      <td>0.805509</td>\n",
       "      <td>06:32</td>\n",
       "    </tr>\n",
       "    <tr>\n",
       "      <td>9</td>\n",
       "      <td>0.499651</td>\n",
       "      <td>0.571138</td>\n",
       "      <td>0.809265</td>\n",
       "      <td>06:50</td>\n",
       "    </tr>\n",
       "  </tbody>\n",
       "</table>"
      ],
      "text/plain": [
       "<IPython.core.display.HTML object>"
      ]
     },
     "metadata": {},
     "output_type": "display_data"
    }
   ],
   "source": [
    "learn.fit_one_cycle(10,5e-3)"
   ]
  },
  {
   "cell_type": "code",
   "execution_count": 15,
   "id": "a035b41a",
   "metadata": {},
   "outputs": [
    {
     "data": {
      "text/html": [
       "<table border=\"1\" class=\"dataframe\">\n",
       "  <thead>\n",
       "    <tr style=\"text-align: left;\">\n",
       "      <th>epoch</th>\n",
       "      <th>train_loss</th>\n",
       "      <th>valid_loss</th>\n",
       "      <th>accuracy</th>\n",
       "      <th>time</th>\n",
       "    </tr>\n",
       "  </thead>\n",
       "  <tbody>\n",
       "    <tr>\n",
       "      <td>0</td>\n",
       "      <td>0.799557</td>\n",
       "      <td>4.737248</td>\n",
       "      <td>0.717446</td>\n",
       "      <td>09:37</td>\n",
       "    </tr>\n",
       "    <tr>\n",
       "      <td>1</td>\n",
       "      <td>0.615979</td>\n",
       "      <td>7.777035</td>\n",
       "      <td>0.717028</td>\n",
       "      <td>07:50</td>\n",
       "    </tr>\n",
       "    <tr>\n",
       "      <td>2</td>\n",
       "      <td>0.562331</td>\n",
       "      <td>6.391195</td>\n",
       "      <td>0.716611</td>\n",
       "      <td>07:53</td>\n",
       "    </tr>\n",
       "    <tr>\n",
       "      <td>3</td>\n",
       "      <td>0.487523</td>\n",
       "      <td>6.985601</td>\n",
       "      <td>0.715359</td>\n",
       "      <td>08:06</td>\n",
       "    </tr>\n",
       "    <tr>\n",
       "      <td>4</td>\n",
       "      <td>0.439374</td>\n",
       "      <td>12.872912</td>\n",
       "      <td>0.715359</td>\n",
       "      <td>07:49</td>\n",
       "    </tr>\n",
       "    <tr>\n",
       "      <td>5</td>\n",
       "      <td>0.384994</td>\n",
       "      <td>13.207685</td>\n",
       "      <td>0.716194</td>\n",
       "      <td>08:09</td>\n",
       "    </tr>\n",
       "    <tr>\n",
       "      <td>6</td>\n",
       "      <td>0.346408</td>\n",
       "      <td>11.368187</td>\n",
       "      <td>0.716194</td>\n",
       "      <td>08:14</td>\n",
       "    </tr>\n",
       "    <tr>\n",
       "      <td>7</td>\n",
       "      <td>0.291976</td>\n",
       "      <td>9.285330</td>\n",
       "      <td>0.716194</td>\n",
       "      <td>08:16</td>\n",
       "    </tr>\n",
       "    <tr>\n",
       "      <td>8</td>\n",
       "      <td>0.279183</td>\n",
       "      <td>11.142306</td>\n",
       "      <td>0.716194</td>\n",
       "      <td>08:05</td>\n",
       "    </tr>\n",
       "    <tr>\n",
       "      <td>9</td>\n",
       "      <td>0.248268</td>\n",
       "      <td>11.027688</td>\n",
       "      <td>0.716194</td>\n",
       "      <td>08:10</td>\n",
       "    </tr>\n",
       "  </tbody>\n",
       "</table>"
      ],
      "text/plain": [
       "<IPython.core.display.HTML object>"
      ]
     },
     "metadata": {},
     "output_type": "display_data"
    }
   ],
   "source": [
    "learn.fit_one_cycle(10,5e-3)"
   ]
  },
  {
   "cell_type": "code",
   "execution_count": 8,
   "id": "ca677747",
   "metadata": {},
   "outputs": [
    {
     "data": {
      "text/plain": [
       "<fastai.learner.Learner at 0x2c5c15bcee0>"
      ]
     },
     "execution_count": 8,
     "metadata": {},
     "output_type": "execute_result"
    }
   ],
   "source": [
    "learn.load(\"canon_org_resnet34_80\")"
   ]
  },
  {
   "cell_type": "code",
   "execution_count": null,
   "id": "086ce519",
   "metadata": {},
   "outputs": [
    {
     "data": {
      "text/html": [
       "\n",
       "    <div>\n",
       "        <style>\n",
       "            /* Turns off some styling */\n",
       "            progress {\n",
       "                /* gets rid of default border in Firefox and Opera. */\n",
       "                border: none;\n",
       "                /* Needs to be in here for Safari polyfill so background images work as expected. */\n",
       "                background-size: auto;\n",
       "            }\n",
       "            .progress-bar-interrupted, .progress-bar-interrupted::-webkit-progress-bar {\n",
       "                background: #F44336;\n",
       "            }\n",
       "        </style>\n",
       "      <progress value='18' class='' max='38' style='width:300px; height:20px; vertical-align: middle;'></progress>\n",
       "      47.37% [18/38 00:53<00:59 0.5049]\n",
       "    </div>\n",
       "    "
      ],
      "text/plain": [
       "<IPython.core.display.HTML object>"
      ]
     },
     "metadata": {},
     "output_type": "display_data"
    }
   ],
   "source": [
    "interp = ClassificationInterpretation.from_learner(learn)\n",
    "\n",
    "losses,idxs = interp.top_losses()\n",
    "\n",
    "len(dls.valid_ds)==len(losses)==len(idxs)"
   ]
  },
  {
   "cell_type": "code",
   "execution_count": null,
   "id": "41cd018e",
   "metadata": {},
   "outputs": [],
   "source": [
    "learn.save('canon_org_resnet34_80')"
   ]
  },
  {
   "cell_type": "code",
   "execution_count": 9,
   "id": "666bafa0",
   "metadata": {},
   "outputs": [
    {
     "data": {
      "text/html": [],
      "text/plain": [
       "<IPython.core.display.HTML object>"
      ]
     },
     "metadata": {},
     "output_type": "display_data"
    },
    {
     "data": {
      "image/png": "[encoded data removed]",
      "text/plain": [
       "<Figure size 300x300 with 1 Axes>"
      ]
     },
     "metadata": {
      "needs_background": "light"
     },
     "output_type": "display_data"
    }
   ],
   "source": [
    "interp = ClassificationInterpretation.from_learner(learn)\n",
    "c = interp.plot_confusion_matrix(figsize=(5,5), dpi=60)"
   ]
  },
  {
   "cell_type": "markdown",
   "id": "a9d9f00e",
   "metadata": {},
   "source": [
    "### Saving the Probabilities for each image."
   ]
  },
  {
   "cell_type": "code",
   "execution_count": null,
   "id": "ac5f80cd",
   "metadata": {},
   "outputs": [],
   "source": [
    "y_prob =learn.get_preds()\n",
    "df=pd.DataFrame(np.column_stack(y_prob),columns=['0','1','2','3','4','ground_truth'])\n",
    "df.to_csv('cdc.csv', index=False)"
   ]
  },
  {
   "cell_type": "markdown",
   "id": "402b3ac6",
   "metadata": {},
   "source": [
    "### Testing the model on Unseen Data"
   ]
  },
  {
   "cell_type": "code",
   "execution_count": 14,
   "id": "21e2fabc",
   "metadata": {},
   "outputs": [
    {
     "data": {
      "text/html": [],
      "text/plain": [
       "<IPython.core.display.HTML object>"
      ]
     },
     "metadata": {},
     "output_type": "display_data"
    }
   ],
   "source": [
    "#predictions on whole Dataset\n",
    "test_files = [fn for fn in sorted((path/'canon_300').glob('**/*')) if fn.is_file()]\n",
    "test_dl = learn.dls.test_dl(test_files)\n",
    "preds, _ = learn.get_preds(dl=test_dl)\n",
    "df_test=pd.DataFrame(preds,columns=['0','1','2','3','4'])\n",
    "df_test.to_csv('canon_data_org/canon_300.csv', index=False)\n"
   ]
  }
 ],
 "metadata": {
  "kernelspec": {
   "display_name": "Python 3 (ipykernel)",
   "language": "python",
   "name": "python3"
  },
  "language_info": {
   "codemirror_mode": {
    "name": "ipython",
    "version": 3
   },
   "file_extension": ".py",
   "mimetype": "text/x-python",
   "name": "python",
   "nbconvert_exporter": "python",
   "pygments_lexer": "ipython3",
   "version": "3.9.7"
  }
 },
 "nbformat": 4,
 "nbformat_minor": 5
}
